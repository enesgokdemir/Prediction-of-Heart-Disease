import pandas as pd
import numpy as np
import seaborn as sns
import matplotlib.pyplot as plt
from sklearn.model_selection import train_test_split, GridSearchCV
from sklearn.preprocessing import StandardScaler
from sklearn.pipeline import Pipeline
from sklearn.linear_model import LogisticRegression
from sklearn.tree import DecisionTreeClassifier
from sklearn.ensemble import RandomForestClassifier
from sklearn.metrics import accuracy_score, confusion_matrix, classification_report

# Veri kümesini oku
data_url = 'https://archive.ics.uci.edu/ml/machine-learning-databases/heart-disease/processed.cleveland.data'
names = ['age', 'sex', 'cp', 'trestbps', 'chol', 'fbs', 'restecg', 'thalach', 'exang', 'oldpeak', 'slope', 'ca', 'thal', 'target']
data = pd.read_csv(data_url, names=names)

# Eksik verileri işle
data = data.replace('?', np.nan)
data = data.dropna()

# Veri kümesinin istatistiklerini görüntüle
print(data.describe())

# Hedef değişkenin sınıf sayısını görüntüle
print(data.groupby('target').size())

# Veri görselleştirme
sns.countplot(x='target', data=data, palette='bwr')
plt.show()

# Verileri özellikler ve hedef değişken olarak ayır
X = data.iloc[:, :-1]
y = data.iloc[:, -1]

# Verileri eğitim ve test kümelerine ayır
X_train, X_test, y_train, y_test = train_test_split(X, y, test_size=0.2, random_state=42)

# Verileri standartlaştır
scaler = StandardScaler()
X_train = scaler.fit_transform(X_train)
X_test = scaler.transform(X_test)

# Model eğitimi
pipe_lr = Pipeline([('lr', LogisticRegression())])
pipe_dt = Pipeline([('dt', DecisionTreeClassifier())])
pipe_rf = Pipeline([('rf', RandomForestClassifier())])

# Grid Search ile en iyi parametreleri belirle
param_grid_lr = {'lr__C': [0.001, 0.01, 0.1, 1, 10, 100]}
param_grid_dt = {'dt__max_depth': [1, 2, 3, 4, 5, 6, 7, 8, 9, 10]}
param_grid_rf = {'rf__n_estimators': [50, 100, 200, 300, 400, 500]}

grid_lr = GridSearchCV(pipe_lr, param_grid=param_grid_lr, cv=10, n_jobs=-1)
grid_dt = GridSearchCV(pipe_dt, param_grid=param_grid_dt, cv=10, n_jobs=-1)
grid_rf = GridSearchCV(pipe_rf, param_grid=param_grid_rf, cv=10, n_jobs=-1)

# Eğitim verileri üzerinde modelleri uyumla
grid_lr.fit(X_train, y_train)
grid_dt.fit(X_train, y_train)
grid_rf.fit(X_train, y_train)

# En iyi modeli bul
models = {'Logistic Regression': grid_lr.best_estimator_, 
          'Decision Tree': grid_dt.best_estimator_, 
          'Random Forest': grid_rf.best_estimator_}

# En iyi modelin performansını test etme
for model_name, model in models.items():
    y_pred = model.predict(X_test)
    accuracy = accuracy_score(y_test, y_pred)
    print(model_name + ':')
    print('Accuracy: {:.2f}%'.format(accuracy * 100))
    print('Confusion matrix:\n', confusion_matrix(y_test, y_pred))
    print('Classification report:\n', classification_report(y_test, y_pred))
    print('\n')
